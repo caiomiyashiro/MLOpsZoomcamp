{
 "cells": [
  {
   "cell_type": "markdown",
   "id": "861cc72c",
   "metadata": {},
   "source": [
    "# Week Summary - MLFlow\n",
    "\n",
    "# Problem\n",
    "\n",
    "When testing multiple models, things can get messy\n",
    "* Rewriting code cells for testing different models\n",
    "* Keeping track of best parameters through a spreadsheet"
   ]
  },
  {
   "cell_type": "code",
   "execution_count": 1,
   "id": "2499be71",
   "metadata": {},
   "outputs": [],
   "source": [
    "import pickle\n",
    "\n",
    "from sklearn.linear_model import LogisticRegression\n",
    "from sklearn.tree import DecisionTreeClassifier\n",
    "from sklearn.datasets import load_iris, load_diabetes\n",
    "from sklearn.metrics import accuracy_score, mean_squared_error, make_scorer\n",
    "\n",
    "from sklearn.model_selection import KFold, cross_val_score, train_test_split"
   ]
  },
  {
   "cell_type": "code",
   "execution_count": 2,
   "id": "42d958f9",
   "metadata": {},
   "outputs": [
    {
     "name": "stdout",
     "output_type": "stream",
     "text": [
      "Accuracy Logistic Regression: 0.96\n",
      "Accuracy Decision Tree: 0.9866666666666667\n",
      "Accuracy Decision Tree: 1.0\n"
     ]
    }
   ],
   "source": [
    "X, y = load_iris(return_X_y=True)\n",
    "\n",
    "# 1st test\n",
    "lr = LogisticRegression(C=0.1, random_state=42).fit(X, y)\n",
    "y_pred = lr.predict(X)\n",
    "print(f'Accuracy Logistic Regression: {accuracy_score(y, y_pred)}')\n",
    "\n",
    "# 2st test\n",
    "dt = DecisionTreeClassifier(min_samples_split=4, random_state=42).fit(X, y)\n",
    "y_pred = dt.predict(X)\n",
    "print(f'Accuracy Decision Tree: {accuracy_score(y, y_pred)}')\n",
    "\n",
    "# 3 test\n",
    "# variable overwritten\n",
    "dt = DecisionTreeClassifier(min_samples_split=2, max_depth=5, random_state=42).fit(X, y)\n",
    "y_pred = dt.predict(X)\n",
    "print(f'Accuracy Decision Tree: {accuracy_score(y, y_pred)}')\n"
   ]
  },
  {
   "cell_type": "markdown",
   "id": "612ee8f3",
   "metadata": {},
   "source": [
    "We want a better to keep track of the experiments tried ang globally check all the combinations and their effects in the final performance.\n",
    "\n",
    "**Solution** - track experiments\n",
    "\n",
    "The code below will start a MLFlow experiment locally"
   ]
  },
  {
   "cell_type": "code",
   "execution_count": 3,
   "id": "c702a831",
   "metadata": {},
   "outputs": [
    {
     "name": "stderr",
     "output_type": "stream",
     "text": [
      "2024/05/27 11:32:49 INFO mlflow.tracking.fluent: Experiment with name 'experiment_1' does not exist. Creating a new experiment.\n"
     ]
    },
    {
     "data": {
      "text/plain": [
       "<Experiment: artifact_location='file:///Users/caiomiyashiro/repo/Personal/MLOpsZoomcamp/02-experiment-tracking/mlruns/239494832745782215', creation_time=1716777169074, experiment_id='239494832745782215', last_update_time=1716777169074, lifecycle_stage='active', name='experiment_1', tags={}>"
      ]
     },
     "execution_count": 3,
     "metadata": {},
     "output_type": "execute_result"
    }
   ],
   "source": [
    "import mlflow \n",
    "\n",
    "mlflow.set_experiment('experiment_1')"
   ]
  },
  {
   "cell_type": "markdown",
   "id": "c30bd614",
   "metadata": {},
   "source": [
    "In order to see the results in an UI, we can start a MLFlow UI page\n",
    "\n",
    "``` bash\n",
    "pip install mlflow\n",
    "mlflow ui --backend-store-uri sqlite:///mlflow.db\n",
    "``` \n",
    "\n",
    "You will be able to access the MLFlow UX at http://127.0.0.1:5000/"
   ]
  },
  {
   "cell_type": "markdown",
   "id": "8ee6aa6f",
   "metadata": {},
   "source": [
    "## First example with simple logging"
   ]
  },
  {
   "cell_type": "code",
   "execution_count": 5,
   "id": "42f7bd64",
   "metadata": {},
   "outputs": [
    {
     "name": "stdout",
     "output_type": "stream",
     "text": [
      "Average cross-validation RMSE: 7476.9177832749265\n"
     ]
    }
   ],
   "source": [
    "X, y = load_diabetes(return_X_y=True)\n",
    "X_train, X_test, y_train, y_test = train_test_split(X, y, test_size=0.33, random_state=42)\n",
    "\n",
    "with mlflow.start_run():\n",
    "    mlflow.set_tag('developer', 'caio')\n",
    "\n",
    "    alpha = 0.1\n",
    "    lr = LogisticRegression(C=alpha, random_state=42)\n",
    "    mlflow.log_param('alpha', alpha)\n",
    "\n",
    "    kf = KFold(n_splits=3, shuffle=True, random_state=1)\n",
    "    rmse_scorer = make_scorer(mean_squared_error)\n",
    "    cv_results = cross_val_score(lr, X_train, y_train, cv=kf, scoring=rmse_scorer)\n",
    "    print(\"Average cross-validation RMSE:\", cv_results.mean())\n",
    "    mlflow.log_metric('rmse',cv_results.mean())\n",
    "    \n",
    "    lr.fit(X_train, y_train)\n",
    "\n",
    "    # y_test_predicted = lr.predict(y_test)\n",
    "    # test_rmse = mean_squared_error(y_test, y_test_predicted)\n",
    "\n",
    "    with open('models/lasso.bin', 'wb') as f_out:\n",
    "        pickle.dump(lr, f_out)\n",
    "    mlflow.log_artifact(local_path=\"models/lasso.bin\", artifact_path=\"models_pickle\")"
   ]
  },
  {
   "cell_type": "markdown",
   "id": "3b373ee5",
   "metadata": {},
   "source": [
    "## More complex example with grid tuning and hyperopt\n",
    "\n",
    "Hyperopt is a faster way to search hiperparameter space (compared to grid search)\n",
    "\n",
    "After running them, select all runs at mlflow and click \"compare\""
   ]
  },
  {
   "cell_type": "code",
   "execution_count": 11,
   "id": "8c66c80c",
   "metadata": {},
   "outputs": [
    {
     "name": "stderr",
     "output_type": "stream",
     "text": [
      "2024/05/27 12:10:53 INFO mlflow.tracking.fluent: Experiment with name 'experiment_hypteropt_fine_tuning' does not exist. Creating a new experiment.\n"
     ]
    },
    {
     "data": {
      "text/plain": [
       "<Experiment: artifact_location='/Users/caiomiyashiro/repo/Personal/MLOpsZoomcamp/02-experiment-tracking/mlruns/1', creation_time=1716779453213, experiment_id='1', last_update_time=1716779453213, lifecycle_stage='active', name='experiment_hypteropt_fine_tuning', tags={}>"
      ]
     },
     "execution_count": 11,
     "metadata": {},
     "output_type": "execute_result"
    }
   ],
   "source": [
    "import xgboost as xgb\n",
    "from hyperopt import fmin, tpe, hp, STATUS_OK, Trials\n",
    "from hyperopt.pyll import scope\n",
    "\n",
    "mlflow.set_tracking_uri(\"sqlite:///mlflow.db\")\n",
    "mlflow.set_experiment('experiment_hypteropt_fine_tuning')"
   ]
  },
  {
   "cell_type": "code",
   "execution_count": 7,
   "id": "3170492d",
   "metadata": {},
   "outputs": [],
   "source": [
    "train = xgb.DMatrix(X_train, label=y_train)\n",
    "valid = xgb.DMatrix(X_test, label=y_test)"
   ]
  },
  {
   "cell_type": "code",
   "execution_count": 13,
   "id": "b49d6973",
   "metadata": {},
   "outputs": [],
   "source": [
    "def objective(params):\n",
    "    with mlflow.start_run():\n",
    "        mlflow.set_tag(\"model\", \"xgboost\")\n",
    "        mlflow.log_params(params)\n",
    "        booster = xgb.train(\n",
    "            params=params,\n",
    "            dtrain=train,\n",
    "            num_boost_round=500,\n",
    "            evals=[(valid, 'validation')],\n",
    "            early_stopping_rounds=50\n",
    "        )\n",
    "        y_pred = booster.predict(valid)\n",
    "        rmse = mean_squared_error(y_test, y_pred, squared=False)\n",
    "        mlflow.log_metric(\"rmse\", rmse)\n",
    "        mlflow.xgboost.log_model(booster, 'models_mlflow')\n",
    "\n",
    "    return {'loss': rmse, 'status': STATUS_OK}"
   ]
  },
  {
   "cell_type": "code",
   "execution_count": 1,
   "id": "4d457b5c",
   "metadata": {},
   "outputs": [],
   "source": [
    "search_space = {\n",
    "    'max_depth': scope.int(hp.quniform('max_depth', 4, 100, 1)),\n",
    "    'learning_rate': hp.loguniform('learning_rate', -3, 0),\n",
    "    'reg_alpha': hp.loguniform('reg_alpha', -5, -1),\n",
    "    'reg_lambda': hp.loguniform('reg_lambda', -6, -1),\n",
    "    'min_child_weight': hp.loguniform('min_child_weight', -1, 3),\n",
    "    'objective': 'reg:squarederror',\n",
    "    'seed': 42\n",
    "}\n",
    "\n",
    "best_result = fmin(\n",
    "    fn=objective,\n",
    "    space=search_space,\n",
    "    algo=tpe.suggest,\n",
    "    max_evals=20,\n",
    "    trials=Trials()\n",
    ")"
   ]
  },
  {
   "cell_type": "code",
   "execution_count": 2,
   "id": "55331330",
   "metadata": {},
   "outputs": [],
   "source": [
    "params = {\n",
    "    'learning_rate': 0.09585355369315604,\n",
    "    'max_depth': 30,\n",
    "    'min_child_weight': 1.060597050922164,\n",
    "    'objective': 'reg:linear',\n",
    "    'reg_alpha': 0.018060244040060163,\n",
    "    'reg_lambda': 0.011658731377413597,\n",
    "    'seed': 42\n",
    "}\n",
    "\n",
    "with mlflow.start_run():\n",
    "    mlflow.set_tag(\"model\", \"xgboost\")\n",
    "    mlflow.log_params(params)\n",
    "    booster = xgb.train(\n",
    "        params=params,\n",
    "        dtrain=train,\n",
    "        num_boost_round=1000,\n",
    "        evals=[(valid, 'validation')],\n",
    "        early_stopping_rounds=50\n",
    "    )\n",
    "    y_pred = booster.predict(valid)\n",
    "    rmse = mean_squared_error(y_test, y_pred, squared=False)\n",
    "    mlflow.log_metric(\"rmse\", rmse)\n",
    "    mlflow.xgboost.log_model(booster, 'models_mlflow')"
   ]
  },
  {
   "cell_type": "markdown",
   "id": "f095c982",
   "metadata": {},
   "source": [
    "## Loading the model from MLFlow\n",
    "\n",
    "We check the MLFlow UI and check the run that has achieved the smaller RMSE. We're going to load the model in 2 ways:\n",
    "\n",
    "1. Loading from a specific run\n",
    "2. loading from model registry"
   ]
  },
  {
   "cell_type": "code",
   "execution_count": 15,
   "id": "3e85884c",
   "metadata": {},
   "outputs": [],
   "source": [
    "# \"model_mlflow\" is the folder defined during model logging\n",
    "logged_model = 'runs:/fe14c14ff3364b3e89576e1014dd2e1e/models_mlflow' \n",
    "\n",
    "\n",
    "# Load model as a PyFuncModel.\n",
    "loaded_model = mlflow.pyfunc.load_model(logged_model)\n",
    "\n",
    "# OR\n",
    "\n",
    "xgboost_model = mlflow.xgboost.load_model(logged_model)"
   ]
  },
  {
   "cell_type": "markdown",
   "id": "2563e7e8",
   "metadata": {},
   "source": [
    "# Setting up MLFlow for different scenarios\n",
    "\n",
    "## Show the different parts of MLFlow\n",
    "1. Tracking server\n",
    "2. Backend server\n",
    "3. Artifact server\n",
    "\n",
    "\n",
    "## Instatiate remote MLFlow in Azure\n",
    "\n",
    "1. Start VM. Save public key and public IP address to add to alias. Change key permissions to only be accessible by owner\n",
    "  \n",
    "```bash\n",
    "chmod 600 /Users/caiomiyashiro/.ssh/vm-mlops_key.pem\n",
    "```\n",
    "  \n",
    "2. Start PostgreSQL Database and allow VM's IP to connect\n",
    "3. Start Storage Container and allow VM's IP to connect\n",
    "\n",
    "## Connect to VM using bash\n",
    "\n",
    "1. Writing alias at .ssh/config\n",
    "\n",
    "``` bash\n",
    "Host mlops-zoomcamp\n",
    "   HostName 20.18.227.5\n",
    "   User azureuser\n",
    "   IdentityFile ~/.ssh/vm-mlops_key.pem\n",
    "   StrictHostKeyChecking no\n",
    "```  \n",
    "\n",
    "2. Connect to VM using: \n",
    "```bash\n",
    "ssh mlops-zoomcamp\n",
    "```\n",
    "\n",
    "3. Install and configure anaconda\n",
    "```bash\n",
    "wget https://repo.anaconda.com/archive/Anaconda3-2024.02-1-Linux-x86_64.sh\n",
    "bash Anaconda3-2024.02-1-Linux-x86_64.sh\n",
    "# could install docker and docker container\n",
    "\n",
    "conda create --name mlflow-tracking\n",
    "conda install jupyter scikit-learn  pandas  seaborn  xgboost azure-storage-blob\n",
    "pip3 install mlflow psycopg2-binary hyperopt azure-identity\n",
    "# conda install -c conda-forge psycopg2-binary will update other packages and create a memory error!\n",
    "# conda install mlflow might create error Unable to display MLflow UI - landing page (index.html) not found.\n",
    "```\n",
    "\n",
    "4. Install and configure Azure credentials\n",
    "```bash\n",
    "brew update && brew install azure-cli  # for mac or the equivalent for windows\n",
    "az login  \n",
    "# in case of new IP address, you might need to login with \"az login --tenant 76529cbb-482f-4415-b366-251e1c034e34\"\n",
    "```\n",
    "\n",
    "5. Initiate MLFlow with postgresSQL and blobstorage\n",
    "```bash \n",
    "# Setting one of this combination and we DON'T NEED to login to azure\n",
    "export AZURE_STORAGE_CONNECTION_STRING=\"<get from storage container>\"\n",
    "export AZURE_STORAGE_ACCOUNT=\"<>\"\n",
    "export AZURE_STORAGE_KEY=\"<>\"\n",
    "\n",
    "mlflow server -h 0.0.0.0 -p 5000 --backend-store-uri postgresql://azureuser:<password>@<hostname>:5432/postgres --default-artifact-root wasbs://<blob container>@<storage account>.blob.core.windows.net\n",
    "\n",
    "# in case of errors, you can test the database connection from the VM\n",
    "psql -h mlopspostgress.postgres.database.azure.com -U azureuser -d postgres -p 5432\n",
    "\n",
    "az storage blob list --account-name mlopsdata37 --container-name mlops-blob --auth-mode login\n",
    "```\n",
    "\n",
    "\n",
    "# Locally\n",
    "\n",
    "1. Install azure client so we can do browser login\n",
    "```bash\n",
    "brew update && brew install azure-cli  # for mac or the equivalent for windows\n",
    "az login                               # login using browser\n",
    "# in case of new IP address, you might need to login with \"az login --tenant 76529cbb-482f-4415-b366-251e1c034e34\"\n",
    "```"
   ]
  },
  {
   "cell_type": "markdown",
   "id": "8afbde6a",
   "metadata": {},
   "source": []
  },
  {
   "cell_type": "code",
   "execution_count": 24,
   "id": "934f725f",
   "metadata": {},
   "outputs": [],
   "source": [
    "import os # set access to storage container\n",
    "os.environ[\"AZURE_STORAGE_CONNECTION_STRING\"] = \"<get from storage account>\""
   ]
  },
  {
   "cell_type": "code",
   "execution_count": 25,
   "id": "9fa15c33",
   "metadata": {},
   "outputs": [
    {
     "name": "stderr",
     "output_type": "stream",
     "text": [
      "/Users/caiomiyashiro/anaconda3/envs/exp-tracking-env/lib/python3.9/site-packages/_distutils_hack/__init__.py:11: UserWarning: Distutils was imported before Setuptools, but importing Setuptools also replaces the `distutils` module in `sys.modules`. This may lead to undesirable behaviors or errors. To avoid these issues, avoid using distutils directly, ensure that setuptools is installed in the traditional way (e.g. not an editable install), and/or make sure that setuptools is always imported before distutils.\n",
      "  warnings.warn(\n",
      "/Users/caiomiyashiro/anaconda3/envs/exp-tracking-env/lib/python3.9/site-packages/_distutils_hack/__init__.py:26: UserWarning: Setuptools is replacing distutils.\n",
      "  warnings.warn(\"Setuptools is replacing distutils.\")\n"
     ]
    },
    {
     "name": "stdout",
     "output_type": "stream",
     "text": [
      "default artifacts URI: 'wasbs://mlops-blob@mlopsdata37.blob.core.windows.net/1/e732d7eca2c446b2bae55a91ee4237f0/artifacts'\n"
     ]
    }
   ],
   "source": [
    "from sklearn.linear_model import LogisticRegression\n",
    "from sklearn.datasets import load_iris\n",
    "from sklearn.metrics import accuracy_score\n",
    "\n",
    "mlflow.set_tracking_uri('http://20.18.227.5:5000/')\n",
    "mlflow.set_experiment(\"finally\")\n",
    "\n",
    "with mlflow.start_run():\n",
    "\n",
    "    X, y = load_iris(return_X_y=True)\n",
    "\n",
    "    params = {\"C\": 0.1, \"random_state\": 42}\n",
    "    mlflow.log_params(params)\n",
    "\n",
    "    lr = LogisticRegression(**params).fit(X, y)\n",
    "    y_pred = lr.predict(X)\n",
    "    mlflow.log_metric(\"accuracy\", accuracy_score(y, y_pred))\n",
    "\n",
    "    mlflow.sklearn.log_model(lr, artifact_path=\"models\")\n",
    "    print(f\"default artifacts URI: '{mlflow.get_artifact_uri()}'\")"
   ]
  }
 ],
 "metadata": {
  "kernelspec": {
   "display_name": "exp-tracking-env",
   "language": "python",
   "name": "python3"
  },
  "language_info": {
   "codemirror_mode": {
    "name": "ipython",
    "version": 3
   },
   "file_extension": ".py",
   "mimetype": "text/x-python",
   "name": "python",
   "nbconvert_exporter": "python",
   "pygments_lexer": "ipython3",
   "version": "3.9.19"
  }
 },
 "nbformat": 4,
 "nbformat_minor": 5
}
